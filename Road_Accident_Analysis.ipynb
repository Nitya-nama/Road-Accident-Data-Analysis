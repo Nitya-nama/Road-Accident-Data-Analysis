{
 "cells": [
  {
   "cell_type": "markdown",
   "id": "49227ef2",
   "metadata": {},
   "source": [
    "# 🚗 Road Accident Data Analysis Using Python\n",
    "This notebook explores road accident trends using data science techniques.\n",
    "\n",
    "## 📌 Steps:\n",
    "- Load and clean accident dataset.\n",
    "- Perform exploratory data analysis (EDA).\n",
    "- Visualize insights with plots and heatmaps.\n",
    "- Identify accident-prone locations."
   ]
  },
  {
   "cell_type": "code",
   "execution_count": null,
   "id": "83bb90fb",
   "metadata": {},
   "outputs": [],
   "source": [
    "\n",
    "import pandas as pd\n",
    "import numpy as np\n",
    "import matplotlib.pyplot as plt\n",
    "import seaborn as sns\n",
    "import folium\n",
    "from folium.plugins import HeatMap\n"
   ]
  },
  {
   "cell_type": "code",
   "execution_count": null,
   "id": "88ba5ebc",
   "metadata": {},
   "outputs": [],
   "source": [
    "\n",
    "# Load the dataset (Replace 'road_accidents.csv' with actual dataset path)\n",
    "df = pd.read_csv(\"road_accidents.csv\")\n",
    "\n",
    "# Display first 5 rows\n",
    "df.head()\n"
   ]
  },
  {
   "cell_type": "code",
   "execution_count": null,
   "id": "54942517",
   "metadata": {},
   "outputs": [],
   "source": [
    "\n",
    "# Check for missing values\n",
    "print(\"Missing Values:\")\n",
    "print(df.isnull().sum())\n",
    "\n",
    "# Fill missing values for categorical columns\n",
    "df.fillna({\"Weather_Condition\": \"Unknown\"}, inplace=True)\n",
    "\n",
    "# Convert date to datetime format\n",
    "df[\"Accident_Date\"] = pd.to_datetime(df[\"Accident_Date\"])\n",
    "\n",
    "# Extract time-based insights\n",
    "df[\"Year\"] = df[\"Accident_Date\"].dt.year\n",
    "df[\"Month\"] = df[\"Accident_Date\"].dt.month\n",
    "df[\"Hour\"] = df[\"Accident_Date\"].dt.hour\n",
    "\n",
    "# Drop duplicate records if any\n",
    "df.drop_duplicates(inplace=True)\n",
    "\n",
    "# Display dataset info after cleaning\n",
    "df.info()\n"
   ]
  },
  {
   "cell_type": "code",
   "execution_count": null,
   "id": "db51f2e5",
   "metadata": {},
   "outputs": [],
   "source": [
    "\n",
    "# Plot accidents per year\n",
    "plt.figure(figsize=(10,5))\n",
    "sns.countplot(data=df, x=\"Year\", palette=\"coolwarm\")\n",
    "plt.title(\"Road Accidents Per Year\")\n",
    "plt.xlabel(\"Year\")\n",
    "plt.ylabel(\"Number of Accidents\")\n",
    "plt.show()\n"
   ]
  },
  {
   "cell_type": "code",
   "execution_count": null,
   "id": "657412e8",
   "metadata": {},
   "outputs": [],
   "source": [
    "\n",
    "# Plot accidents by hour\n",
    "plt.figure(figsize=(10,5))\n",
    "sns.countplot(data=df, x=\"Hour\", palette=\"viridis\")\n",
    "plt.title(\"Accidents by Hour of the Day\")\n",
    "plt.xlabel(\"Hour (24-hour format)\")\n",
    "plt.ylabel(\"Number of Accidents\")\n",
    "plt.show()\n"
   ]
  },
  {
   "cell_type": "code",
   "execution_count": null,
   "id": "e656849c",
   "metadata": {},
   "outputs": [],
   "source": [
    "\n",
    "# Identify top 10 cities with highest accidents\n",
    "top_cities = df[\"City\"].value_counts().head(10)\n",
    "\n",
    "plt.figure(figsize=(10,5))\n",
    "sns.barplot(x=top_cities.index, y=top_cities.values, palette=\"magma\")\n",
    "plt.title(\"Top 10 Cities with Highest Road Accidents\")\n",
    "plt.xlabel(\"City\")\n",
    "plt.ylabel(\"Accident Count\")\n",
    "plt.xticks(rotation=45)\n",
    "plt.show()\n"
   ]
  },
  {
   "cell_type": "code",
   "execution_count": null,
   "id": "9fccb566",
   "metadata": {},
   "outputs": [],
   "source": [
    "\n",
    "# Creating Heatmap of accident locations\n",
    "locations = df[[\"Latitude\", \"Longitude\"]].dropna().values.tolist()\n",
    "\n",
    "# Create a map centered at an average location\n",
    "m = folium.Map(location=[df[\"Latitude\"].mean(), df[\"Longitude\"].mean()], zoom_start=6)\n",
    "\n",
    "# Add Heatmap layer\n",
    "HeatMap(locations).add_to(m)\n",
    "\n",
    "# Save map as HTML\n",
    "m.save(\"accident_heatmap.html\")\n",
    "\n",
    "# Display message\n",
    "print(\"Heatmap saved as 'accident_heatmap.html'. Open this file to view the accident-prone locations.\")\n"
   ]
  }
 ],
 "metadata": {},
 "nbformat": 4,
 "nbformat_minor": 5
}